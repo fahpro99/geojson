{
 "cells": [
  {
   "cell_type": "code",
   "execution_count": 2,
   "id": "785f74da",
   "metadata": {},
   "outputs": [],
   "source": [
    "import requests\n",
    "import pandas as pd\n",
    "import plotly.express as px\n",
    "\n",
    "# Load GeoJSON data\n",
    "state_geo = requests.get(\n",
    "    \"https://raw.githubusercontent.com/fahpro99/geojson/main/output.json\"\n",
    ").json()\n",
    "\n",
    "# Load data\n",
    "state_data = pd.read_csv(\n",
    "    \"https://raw.githubusercontent.com/fahpro99/geojson/main/my_country.csv\"\n",
    ")\n"
   ]
  },
  {
   "cell_type": "code",
   "execution_count": 3,
   "id": "0934bde4",
   "metadata": {},
   "outputs": [],
   "source": [
    "fig=px.choropleth(state_data,locations=\"District\",geojson=state_geo,color=\"Count\")"
   ]
  },
  {
   "cell_type": "code",
   "execution_count": null,
   "id": "fb882a59",
   "metadata": {},
   "outputs": [],
   "source": []
  }
 ],
 "metadata": {
  "kernelspec": {
   "display_name": "Python 3 (ipykernel)",
   "language": "python",
   "name": "python3"
  },
  "language_info": {
   "codemirror_mode": {
    "name": "ipython",
    "version": 3
   },
   "file_extension": ".py",
   "mimetype": "text/x-python",
   "name": "python",
   "nbconvert_exporter": "python",
   "pygments_lexer": "ipython3",
   "version": "3.11.5"
  }
 },
 "nbformat": 4,
 "nbformat_minor": 5
}
